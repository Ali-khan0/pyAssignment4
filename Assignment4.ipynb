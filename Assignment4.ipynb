{
 "cells": [
  {
   "cell_type": "markdown",
   "id": "18dddb52",
   "metadata": {},
   "source": [
    "# Calculator"
   ]
  },
  {
   "cell_type": "code",
   "execution_count": 8,
   "id": "78a7b3fd",
   "metadata": {},
   "outputs": [
    {
     "name": "stdout",
     "output_type": "stream",
     "text": [
      "Enter First Value: 452\n",
      "Enter Second Value: 246\n",
      "Please Select what you want, + , - , * , / -\n",
      "452 - 246 = 206\n"
     ]
    }
   ],
   "source": [
    "inp = int(input(\"Enter First Value: \"))\n",
    "inp2 = int(input(\"Enter Second Value: \"))\n",
    "\n",
    "choice = input(\"Please Select what you want, + , - , * , / \")\n",
    "if choice == \"+\":\n",
    "    print(inp, \"+\", inp2,\"=\",inp+inp2)\n",
    "    \n",
    "elif choice == \"-\":\n",
    "        print(inp, \"-\", inp2,\"=\",inp-inp2)\n",
    "elif choice == \"*\":\n",
    "    print(inp, \"*\",inp2,\"=\",inp*inp2)\n",
    "elif choice == \"/\":\n",
    "    print(inp,\"/\",inp, \"=\",inp/inp2)"
   ]
  },
  {
   "cell_type": "markdown",
   "id": "f9c903dc",
   "metadata": {},
   "source": [
    "# Checking any numaric number in list"
   ]
  },
  {
   "cell_type": "code",
   "execution_count": 15,
   "id": "92ed144f",
   "metadata": {},
   "outputs": [
    {
     "name": "stdout",
     "output_type": "stream",
     "text": [
      "1\n",
      "5\n",
      "2\n"
     ]
    }
   ],
   "source": [
    "lst = [1,\"sd\",5,\"a\",2,\"abc\",\"xyz\"]\n",
    "for i in lst:\n",
    "    if type(i) == int:\n",
    "        print(i)"
   ]
  },
  {
   "cell_type": "markdown",
   "id": "9726b058",
   "metadata": {},
   "source": [
    "# Write a Python script to add a key to a dictionary"
   ]
  },
  {
   "cell_type": "code",
   "execution_count": 2,
   "id": "a6542cb2",
   "metadata": {},
   "outputs": [
    {
     "name": "stdout",
     "output_type": "stream",
     "text": [
      "please type key: 88\n",
      "please type value: eightyeight\n",
      "{23: 'twentythree', 55: 'twentyfive', 6: 'six', '88': 'eightyeight'}\n"
     ]
    }
   ],
   "source": [
    "dict = {23:\"twentythree\",55:\"twentyfive\",6:\"six\"}\n",
    "\n",
    "\n",
    "inpt1 = input(\"please type key: \")\n",
    "inpt2 = input(\"please type value: \")\n",
    "\n",
    "dict[inpt1]=inpt2\n",
    "print(dict)\n"
   ]
  },
  {
   "cell_type": "markdown",
   "id": "a062401a",
   "metadata": {},
   "source": [
    "#  sum all the numeric items in a dictionary"
   ]
  },
  {
   "cell_type": "code",
   "execution_count": 10,
   "id": "e6b2a726",
   "metadata": {},
   "outputs": [
    {
     "name": "stdout",
     "output_type": "stream",
     "text": [
      "70\n"
     ]
    }
   ],
   "source": [
    "lst = [\"ali\",2,\"khan\",45,\"new\",23]\n",
    "newlst = []\n",
    "for i in lst:\n",
    "    if type(i) == int:\n",
    "        newlst.append(i)\n",
    "print(sum(newlst))"
   ]
  },
  {
   "cell_type": "code",
   "execution_count": 13,
   "id": "342c3560",
   "metadata": {},
   "outputs": [],
   "source": [
    "lst = [\"ali\",\"khan\",\"khan\",\"ali\"]\n",
    "newlst = []\n",
    "for i in lst:\n",
    "    if lst == lst:\n",
    "        newlst.append(i)"
   ]
  },
  {
   "cell_type": "code",
   "execution_count": 15,
   "id": "9f8c934e",
   "metadata": {},
   "outputs": [
    {
     "name": "stdout",
     "output_type": "stream",
     "text": [
      "Not present\n",
      "Not present\n"
     ]
    }
   ],
   "source": []
  },
  {
   "cell_type": "code",
   "execution_count": null,
   "id": "57110ebc",
   "metadata": {},
   "outputs": [],
   "source": []
  }
 ],
 "metadata": {
  "kernelspec": {
   "display_name": "Python 3",
   "language": "python",
   "name": "python3"
  },
  "language_info": {
   "codemirror_mode": {
    "name": "ipython",
    "version": 3
   },
   "file_extension": ".py",
   "mimetype": "text/x-python",
   "name": "python",
   "nbconvert_exporter": "python",
   "pygments_lexer": "ipython3",
   "version": "3.8.8"
  }
 },
 "nbformat": 4,
 "nbformat_minor": 5
}
